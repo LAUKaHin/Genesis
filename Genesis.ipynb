{
 "cells": [
  {
   "cell_type": "code",
   "execution_count": 9,
   "id": "b8343d55",
   "metadata": {},
   "outputs": [],
   "source": [
    "#Import libraries\n",
    "import requests\n",
    "import json\n",
    "import base64\n",
    "from markitdown import MarkItDown"
   ]
  },
  {
   "cell_type": "code",
   "execution_count": 10,
   "id": "4ce8d00b-60c1-4b0f-be7d-f3705b6a5f1b",
   "metadata": {},
   "outputs": [],
   "source": [
    "#Define the key and project title\n",
    "key=\"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\"\n",
    "httpRef=\"\"\n",
    "projectTitle=\"DressUp\""
   ]
  },
  {
   "cell_type": "code",
   "execution_count": 16,
   "id": "ae1df1a6",
   "metadata": {},
   "outputs": [],
   "source": [
    "#Import image and convert it to base64 string (If image is stored in local)\n",
    "def ImgToBase64(filename):\n",
    "    fileType=\"\"\n",
    "    if(\"jpg\" in filename or \"jpeg\" in filename or \"JPG\" in filename or \"JPEG\" in filename):\n",
    "        fileType=\"jpeg\"\n",
    "    elif(\"png\" in filename or \"PNG\" in filename):\n",
    "        fileType=\"png\"\n",
    "    elif(\"webp\" in filename or \"WEBP\" in filename):\n",
    "        fileType=\"webp\"\n",
    "    else:\n",
    "        print(\"Error: file type not supported\")\n",
    "        return None\n",
    "    return \"data:image/\"+fileType+\";base64,\"+base64.b64encode(open(filename, 'rb').read()).decode('ascii')"
   ]
  },
  {
   "cell_type": "code",
   "execution_count": 12,
   "id": "8254b7e7",
   "metadata": {},
   "outputs": [],
   "source": [
    "#Import file and convert it to string (If filee is stored in local)\n",
    "def FileToMD(filename):\n",
    "    return MarkItDown().convert(filename)"
   ]
  },
  {
   "cell_type": "code",
   "execution_count": 13,
   "id": "5568d69e",
   "metadata": {},
   "outputs": [],
   "source": [
    "#Create new dictionary for content\n",
    "def CreateDict(dictype, value):\n",
    "    if(\"http\" in value):\n",
    "        value=ImgToBase64(value)\n",
    "    return {\n",
    "               \"type\": dictype,\n",
    "                dictype: value\n",
    "           }"
   ]
  },
  {
   "cell_type": "code",
   "execution_count": 14,
   "id": "8fd9362f",
   "metadata": {},
   "outputs": [],
   "source": [
    "#Send msg to AI\n",
    "def SendAndReceive(SystemContents, UserContents, LLM=\"\"):\n",
    "    response = requests.post(\n",
    "      url=\"https://openrouter.ai/api/v1/chat/completions\",\n",
    "      headers={\n",
    "        \"Authorization\": f\"Bearer {key}\",\n",
    "        \"HTTP-Referer\": f\"{httpRef}\", # Optional, for including your app on openrouter.ai rankings.\n",
    "        \"X-Title\": f\"{projectTitle}\", # Optional. Shows in rankings on openrouter.ai.\n",
    "      },\n",
    "      data=json.dumps({\n",
    "        \"model\": LLM, # Optional\n",
    "        \"messages\":\n",
    "        [\n",
    "            {\n",
    "                \"role\": \"system\",\n",
    "                \"content\": SystemContents\n",
    "            },\n",
    "            {\n",
    "                \"role\": \"user\",\n",
    "                \"content\": UserContents\n",
    "            }\n",
    "        ]\n",
    "      })\n",
    "    )\n",
    "    return json.dumps(json.loads(response.text), indent=4)"
   ]
  },
  {
   "cell_type": "code",
   "execution_count": 21,
   "id": "5bb46084",
   "metadata": {},
   "outputs": [
    {
     "name": "stdout",
     "output_type": "stream",
     "text": [
      "{\n",
      "    \"id\": \"gen-1734508976-FLQsQ9Uy57HFV0N1pGhi\",\n",
      "    \"provider\": \"OpenAI\",\n",
      "    \"model\": \"openai/gpt-4o-mini\",\n",
      "    \"object\": \"chat.completion\",\n",
      "    \"created\": 1734508976,\n",
      "    \"choices\": [\n",
      "        {\n",
      "            \"logprobs\": null,\n",
      "            \"finish_reason\": \"stop\",\n",
      "            \"index\": 0,\n",
      "            \"message\": {\n",
      "                \"role\": \"assistant\",\n",
      "                \"content\": \"Hello! I'm a fashion stylist here to help you find the perfect dress from GU that suits your face shape, height, and body type. Just provide me with those details, and I'll make a recommendation for you!\",\n",
      "                \"refusal\": \"\"\n",
      "            }\n",
      "        }\n",
      "    ],\n",
      "    \"system_fingerprint\": \"fp_6fc10e10eb\",\n",
      "    \"usage\": {\n",
      "        \"prompt_tokens\": 56,\n",
      "        \"completion_tokens\": 43,\n",
      "        \"total_tokens\": 99\n",
      "    }\n",
      "}\n"
     ]
    }
   ],
   "source": [
    "#_Main_#\n",
    "system=[CreateDict(\"text\", \"You are a fashion stylist, you will recommend the most suitable dress from GU for the user according to their face, height and body type. You can only choose the dress provided in my file.\")]\n",
    "user=[CreateDict(\"text\", \"Hello! who are you?\")]\n",
    "print(SendAndReceive(system, user, \"openai/gpt-4o-mini\"))"
   ]
  },
  {
   "cell_type": "code",
   "execution_count": null,
   "id": "45517d7e",
   "metadata": {},
   "outputs": [],
   "source": []
  }
 ],
 "metadata": {
  "kernelspec": {
   "display_name": "Python 3 (ipykernel)",
   "language": "python",
   "name": "python3"
  },
  "language_info": {
   "codemirror_mode": {
    "name": "ipython",
    "version": 3
   },
   "file_extension": ".py",
   "mimetype": "text/x-python",
   "name": "python",
   "nbconvert_exporter": "python",
   "pygments_lexer": "ipython3",
   "version": "3.11.5"
  }
 },
 "nbformat": 4,
 "nbformat_minor": 5
}
